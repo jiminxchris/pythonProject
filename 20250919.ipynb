{
 "cells": [
  {
   "cell_type": "markdown",
   "id": "7f970d3b",
   "metadata": {},
   "source": [
    "## 2025-09-19"
   ]
  },
  {
   "cell_type": "code",
   "execution_count": 1,
   "id": "155abe90",
   "metadata": {},
   "outputs": [
    {
     "name": "stdout",
     "output_type": "stream",
     "text": [
      "안녕 이제 파이썬을 시작하려고 해\n"
     ]
    }
   ],
   "source": [
    "print(\"안녕 이제 파이썬을 시작하려고 해\")"
   ]
  },
  {
   "cell_type": "code",
   "execution_count": null,
   "id": "0d85f863",
   "metadata": {},
   "outputs": [],
   "source": [
    "\"Hello\" # 문자열(string) H Hello"
   ]
  },
  {
   "cell_type": "code",
   "execution_count": null,
   "id": "6f6beac3",
   "metadata": {},
   "outputs": [],
   "source": [
    "'Hello' "
   ]
  },
  {
   "cell_type": "code",
   "execution_count": null,
   "id": "6e6e3816",
   "metadata": {},
   "outputs": [],
   "source": [
    "'123'"
   ]
  },
  {
   "cell_type": "code",
   "execution_count": null,
   "id": "74121e18",
   "metadata": {},
   "outputs": [],
   "source": [
    "123 # 정수형데이터 (integer)"
   ]
  },
  {
   "cell_type": "code",
   "execution_count": null,
   "id": "31e91cb4",
   "metadata": {},
   "outputs": [],
   "source": [
    "36.5 # 실수형데이터 (float)"
   ]
  },
  {
   "cell_type": "code",
   "execution_count": null,
   "id": "b14528c5",
   "metadata": {},
   "outputs": [],
   "source": [
    "True, False # 논리데이터(boolean), 참, 거짓"
   ]
  },
  {
   "cell_type": "code",
   "execution_count": 2,
   "id": "a32afac6",
   "metadata": {},
   "outputs": [
    {
     "name": "stdout",
     "output_type": "stream",
     "text": [
      "Hello\n"
     ]
    }
   ],
   "source": [
    "print(\"Hello\")"
   ]
  },
  {
   "cell_type": "code",
   "execution_count": 3,
   "id": "eef11179",
   "metadata": {},
   "outputs": [
    {
     "name": "stdout",
     "output_type": "stream",
     "text": [
      "29\n"
     ]
    }
   ],
   "source": [
    "print(29)"
   ]
  },
  {
   "cell_type": "code",
   "execution_count": 4,
   "id": "d2a0122a",
   "metadata": {},
   "outputs": [
    {
     "name": "stdout",
     "output_type": "stream",
     "text": [
      "True\n"
     ]
    }
   ],
   "source": [
    "print(True)"
   ]
  },
  {
   "cell_type": "code",
   "execution_count": 5,
   "id": "3d7fd311",
   "metadata": {},
   "outputs": [
    {
     "data": {
      "text/plain": [
       "'hello'"
      ]
     },
     "execution_count": 5,
     "metadata": {},
     "output_type": "execute_result"
    }
   ],
   "source": [
    "'hello'"
   ]
  },
  {
   "cell_type": "code",
   "execution_count": 6,
   "id": "c3e4bfaf",
   "metadata": {},
   "outputs": [
    {
     "ename": "NameError",
     "evalue": "name 'hello' is not defined",
     "output_type": "error",
     "traceback": [
      "\u001b[1;31m---------------------------------------------------------------------------\u001b[0m",
      "\u001b[1;31mNameError\u001b[0m                                 Traceback (most recent call last)",
      "Cell \u001b[1;32mIn[6], line 1\u001b[0m\n\u001b[1;32m----> 1\u001b[0m \u001b[43mhello\u001b[49m\n",
      "\u001b[1;31mNameError\u001b[0m: name 'hello' is not defined"
     ]
    }
   ],
   "source": [
    "hello"
   ]
  },
  {
   "cell_type": "code",
   "execution_count": 7,
   "id": "e8f94a27",
   "metadata": {},
   "outputs": [
    {
     "ename": "SyntaxError",
     "evalue": "unterminated string literal (detected at line 1) (210020672.py, line 1)",
     "output_type": "error",
     "traceback": [
      "\u001b[1;36m  Cell \u001b[1;32mIn[7], line 1\u001b[1;36m\u001b[0m\n\u001b[1;33m    print('Hello\")\u001b[0m\n\u001b[1;37m          ^\u001b[0m\n\u001b[1;31mSyntaxError\u001b[0m\u001b[1;31m:\u001b[0m unterminated string literal (detected at line 1)\n"
     ]
    }
   ],
   "source": [
    "print('Hello\")"
   ]
  },
  {
   "cell_type": "code",
   "execution_count": 8,
   "id": "d540da07",
   "metadata": {},
   "outputs": [
    {
     "ename": "SyntaxError",
     "evalue": "incomplete input (1103635973.py, line 1)",
     "output_type": "error",
     "traceback": [
      "\u001b[1;36m  Cell \u001b[1;32mIn[8], line 1\u001b[1;36m\u001b[0m\n\u001b[1;33m    print('Hello'\u001b[0m\n\u001b[1;37m                 ^\u001b[0m\n\u001b[1;31mSyntaxError\u001b[0m\u001b[1;31m:\u001b[0m incomplete input\n"
     ]
    }
   ],
   "source": [
    "print('Hello'"
   ]
  },
  {
   "cell_type": "code",
   "execution_count": 9,
   "id": "c5dbda85",
   "metadata": {},
   "outputs": [
    {
     "ename": "NameError",
     "evalue": "name 'Print' is not defined",
     "output_type": "error",
     "traceback": [
      "\u001b[1;31m---------------------------------------------------------------------------\u001b[0m",
      "\u001b[1;31mNameError\u001b[0m                                 Traceback (most recent call last)",
      "Cell \u001b[1;32mIn[9], line 1\u001b[0m\n\u001b[1;32m----> 1\u001b[0m \u001b[43mPrint\u001b[49m(\u001b[38;5;124m'\u001b[39m\u001b[38;5;124mHello\u001b[39m\u001b[38;5;124m'\u001b[39m)\n",
      "\u001b[1;31mNameError\u001b[0m: name 'Print' is not defined"
     ]
    }
   ],
   "source": [
    "Print('Hello')"
   ]
  },
  {
   "cell_type": "code",
   "execution_count": 10,
   "id": "4e5bafbe",
   "metadata": {},
   "outputs": [
    {
     "data": {
      "text/plain": [
       "10"
      ]
     },
     "execution_count": 10,
     "metadata": {},
     "output_type": "execute_result"
    }
   ],
   "source": [
    "10"
   ]
  },
  {
   "cell_type": "code",
   "execution_count": 12,
   "id": "81d8b177",
   "metadata": {},
   "outputs": [
    {
     "name": "stdout",
     "output_type": "stream",
     "text": [
      "20\n"
     ]
    }
   ],
   "source": [
    "print(10 + 10)"
   ]
  },
  {
   "cell_type": "code",
   "execution_count": 13,
   "id": "6288b352",
   "metadata": {},
   "outputs": [
    {
     "name": "stdout",
     "output_type": "stream",
     "text": [
      "10 + 10\n"
     ]
    }
   ],
   "source": [
    "print('10 + 10')"
   ]
  },
  {
   "cell_type": "code",
   "execution_count": 14,
   "id": "b8a448e3",
   "metadata": {},
   "outputs": [
    {
     "data": {
      "text/plain": [
       "str"
      ]
     },
     "execution_count": 14,
     "metadata": {},
     "output_type": "execute_result"
    }
   ],
   "source": [
    "type('Hello World')"
   ]
  },
  {
   "cell_type": "code",
   "execution_count": 15,
   "id": "e2407954",
   "metadata": {},
   "outputs": [
    {
     "data": {
      "text/plain": [
       "str"
      ]
     },
     "execution_count": 15,
     "metadata": {},
     "output_type": "execute_result"
    }
   ],
   "source": [
    "type('100')"
   ]
  },
  {
   "cell_type": "code",
   "execution_count": null,
   "id": "28c7bda8",
   "metadata": {},
   "outputs": [
    {
     "data": {
      "text/plain": [
       "int"
      ]
     },
     "execution_count": 16,
     "metadata": {},
     "output_type": "execute_result"
    }
   ],
   "source": [
    "type(99)"
   ]
  },
  {
   "cell_type": "code",
   "execution_count": 17,
   "id": "fc68116c",
   "metadata": {},
   "outputs": [
    {
     "data": {
      "text/plain": [
       "float"
      ]
     },
     "execution_count": 17,
     "metadata": {},
     "output_type": "execute_result"
    }
   ],
   "source": [
    "type(3.14)"
   ]
  },
  {
   "cell_type": "code",
   "execution_count": 18,
   "id": "480d495a",
   "metadata": {},
   "outputs": [
    {
     "data": {
      "text/plain": [
       "bool"
      ]
     },
     "execution_count": 18,
     "metadata": {},
     "output_type": "execute_result"
    }
   ],
   "source": [
    "type(True)"
   ]
  },
  {
   "cell_type": "markdown",
   "id": "b602bac1",
   "metadata": {},
   "source": [
    "#### 변수"
   ]
  },
  {
   "cell_type": "code",
   "execution_count": 34,
   "id": "58b085de",
   "metadata": {},
   "outputs": [],
   "source": [
    "mynumber = 100"
   ]
  },
  {
   "cell_type": "code",
   "execution_count": 36,
   "id": "6843b83e",
   "metadata": {},
   "outputs": [],
   "source": [
    "mynumber = \"박지민\""
   ]
  },
  {
   "cell_type": "code",
   "execution_count": 31,
   "id": "625248b1",
   "metadata": {},
   "outputs": [
    {
     "data": {
      "text/plain": [
       "38.6"
      ]
     },
     "execution_count": 31,
     "metadata": {},
     "output_type": "execute_result"
    }
   ],
   "source": [
    "mynumber"
   ]
  },
  {
   "cell_type": "code",
   "execution_count": 38,
   "id": "8f516cc6",
   "metadata": {},
   "outputs": [
    {
     "ename": "TypeError",
     "evalue": "can only concatenate str (not \"int\") to str",
     "output_type": "error",
     "traceback": [
      "\u001b[1;31m---------------------------------------------------------------------------\u001b[0m",
      "\u001b[1;31mTypeError\u001b[0m                                 Traceback (most recent call last)",
      "Cell \u001b[1;32mIn[38], line 1\u001b[0m\n\u001b[1;32m----> 1\u001b[0m \u001b[43mmynumber\u001b[49m\u001b[43m \u001b[49m\u001b[38;5;241;43m+\u001b[39;49m\u001b[43m \u001b[49m\u001b[38;5;241;43m10\u001b[39;49m\n",
      "\u001b[1;31mTypeError\u001b[0m: can only concatenate str (not \"int\") to str"
     ]
    }
   ],
   "source": [
    "mynumber + 10"
   ]
  },
  {
   "cell_type": "code",
   "execution_count": 37,
   "id": "bd277f16",
   "metadata": {},
   "outputs": [
    {
     "data": {
      "text/plain": [
       "str"
      ]
     },
     "execution_count": 37,
     "metadata": {},
     "output_type": "execute_result"
    }
   ],
   "source": [
    "type(mynumber)"
   ]
  },
  {
   "cell_type": "markdown",
   "id": "496ab7ec",
   "metadata": {},
   "source": [
    "#### 연산자"
   ]
  },
  {
   "cell_type": "code",
   "execution_count": null,
   "id": "0233b89d",
   "metadata": {},
   "outputs": [],
   "source": [
    "# 산술연산자\n",
    "+, -, *, /, //, %, **"
   ]
  },
  {
   "cell_type": "code",
   "execution_count": 45,
   "id": "de4f8df6",
   "metadata": {},
   "outputs": [],
   "source": [
    "num1 = 7\n",
    "num2 = 3"
   ]
  },
  {
   "cell_type": "code",
   "execution_count": 40,
   "id": "6b524558",
   "metadata": {},
   "outputs": [
    {
     "data": {
      "text/plain": [
       "10"
      ]
     },
     "execution_count": 40,
     "metadata": {},
     "output_type": "execute_result"
    }
   ],
   "source": [
    "num1 + num2"
   ]
  },
  {
   "cell_type": "code",
   "execution_count": 41,
   "id": "6faf12c9",
   "metadata": {},
   "outputs": [
    {
     "data": {
      "text/plain": [
       "4"
      ]
     },
     "execution_count": 41,
     "metadata": {},
     "output_type": "execute_result"
    }
   ],
   "source": [
    "num1 - num2"
   ]
  },
  {
   "cell_type": "code",
   "execution_count": 42,
   "id": "8939240c",
   "metadata": {},
   "outputs": [
    {
     "data": {
      "text/plain": [
       "21"
      ]
     },
     "execution_count": 42,
     "metadata": {},
     "output_type": "execute_result"
    }
   ],
   "source": [
    "num1 * num2"
   ]
  },
  {
   "cell_type": "code",
   "execution_count": 43,
   "id": "ae61b7f2",
   "metadata": {},
   "outputs": [
    {
     "data": {
      "text/plain": [
       "2.3333333333333335"
      ]
     },
     "execution_count": 43,
     "metadata": {},
     "output_type": "execute_result"
    }
   ],
   "source": [
    "num1 / num2"
   ]
  },
  {
   "cell_type": "code",
   "execution_count": 47,
   "id": "bd5ce265",
   "metadata": {},
   "outputs": [
    {
     "data": {
      "text/plain": [
       "2"
      ]
     },
     "execution_count": 47,
     "metadata": {},
     "output_type": "execute_result"
    }
   ],
   "source": [
    "num1 // num2"
   ]
  },
  {
   "cell_type": "code",
   "execution_count": 48,
   "id": "36267cda",
   "metadata": {},
   "outputs": [
    {
     "data": {
      "text/plain": [
       "1"
      ]
     },
     "execution_count": 48,
     "metadata": {},
     "output_type": "execute_result"
    }
   ],
   "source": [
    "num1 % num2"
   ]
  },
  {
   "cell_type": "code",
   "execution_count": 49,
   "id": "c3aab1ce",
   "metadata": {},
   "outputs": [
    {
     "data": {
      "text/plain": [
       "343"
      ]
     },
     "execution_count": 49,
     "metadata": {},
     "output_type": "execute_result"
    }
   ],
   "source": [
    "num1 ** num2"
   ]
  },
  {
   "cell_type": "code",
   "execution_count": 50,
   "id": "007cba28",
   "metadata": {},
   "outputs": [],
   "source": [
    "str1 = \"Hello\"\n",
    "str2 = \"World\""
   ]
  },
  {
   "cell_type": "code",
   "execution_count": 51,
   "id": "7f5302ca",
   "metadata": {},
   "outputs": [
    {
     "data": {
      "text/plain": [
       "'HelloWorld'"
      ]
     },
     "execution_count": 51,
     "metadata": {},
     "output_type": "execute_result"
    }
   ],
   "source": [
    "str1 + str2"
   ]
  },
  {
   "cell_type": "code",
   "execution_count": 52,
   "id": "62003113",
   "metadata": {},
   "outputs": [
    {
     "data": {
      "text/plain": [
       "'HelloHelloHelloHelloHelloHelloHello'"
      ]
     },
     "execution_count": 52,
     "metadata": {},
     "output_type": "execute_result"
    }
   ],
   "source": [
    "str1 * num1"
   ]
  },
  {
   "cell_type": "code",
   "execution_count": 53,
   "id": "9b50843f",
   "metadata": {},
   "outputs": [
    {
     "data": {
      "text/plain": [
       "'HelloHelloHelloHelloHelloHelloHello'"
      ]
     },
     "execution_count": 53,
     "metadata": {},
     "output_type": "execute_result"
    }
   ],
   "source": [
    "num1 * str1"
   ]
  },
  {
   "cell_type": "code",
   "execution_count": 54,
   "id": "72c8ab61",
   "metadata": {},
   "outputs": [
    {
     "ename": "TypeError",
     "evalue": "can only concatenate str (not \"int\") to str",
     "output_type": "error",
     "traceback": [
      "\u001b[1;31m---------------------------------------------------------------------------\u001b[0m",
      "\u001b[1;31mTypeError\u001b[0m                                 Traceback (most recent call last)",
      "Cell \u001b[1;32mIn[54], line 1\u001b[0m\n\u001b[1;32m----> 1\u001b[0m \u001b[43mstr1\u001b[49m\u001b[43m \u001b[49m\u001b[38;5;241;43m+\u001b[39;49m\u001b[43m \u001b[49m\u001b[43mnum1\u001b[49m\n",
      "\u001b[1;31mTypeError\u001b[0m: can only concatenate str (not \"int\") to str"
     ]
    }
   ],
   "source": [
    "str1 + num1"
   ]
  },
  {
   "cell_type": "markdown",
   "id": "0e1c6635",
   "metadata": {},
   "source": [
    "#### 비교연산자"
   ]
  },
  {
   "cell_type": "code",
   "execution_count": null,
   "id": "1b8cd8b3",
   "metadata": {},
   "outputs": [],
   "source": [
    "mynumber = 100"
   ]
  },
  {
   "cell_type": "code",
   "execution_count": null,
   "id": "efd94ae9",
   "metadata": {},
   "outputs": [],
   "source": [
    "같다, 다르다, 크다, 작다\n",
    "== , != , > , <, >=, <="
   ]
  },
  {
   "cell_type": "code",
   "execution_count": 55,
   "id": "9794b23c",
   "metadata": {},
   "outputs": [
    {
     "data": {
      "text/plain": [
       "False"
      ]
     },
     "execution_count": 55,
     "metadata": {},
     "output_type": "execute_result"
    }
   ],
   "source": [
    "5 == 3"
   ]
  },
  {
   "cell_type": "code",
   "execution_count": 56,
   "id": "7877b8f9",
   "metadata": {},
   "outputs": [
    {
     "data": {
      "text/plain": [
       "True"
      ]
     },
     "execution_count": 56,
     "metadata": {},
     "output_type": "execute_result"
    }
   ],
   "source": [
    "5 != 3"
   ]
  },
  {
   "cell_type": "code",
   "execution_count": 57,
   "id": "8cdbeb65",
   "metadata": {},
   "outputs": [
    {
     "data": {
      "text/plain": [
       "True"
      ]
     },
     "execution_count": 57,
     "metadata": {},
     "output_type": "execute_result"
    }
   ],
   "source": [
    "5 > 3"
   ]
  },
  {
   "cell_type": "code",
   "execution_count": 58,
   "id": "5d51c28d",
   "metadata": {},
   "outputs": [
    {
     "data": {
      "text/plain": [
       "False"
      ]
     },
     "execution_count": 58,
     "metadata": {},
     "output_type": "execute_result"
    }
   ],
   "source": [
    "5 < 3"
   ]
  },
  {
   "cell_type": "code",
   "execution_count": 62,
   "id": "53c04846",
   "metadata": {},
   "outputs": [],
   "source": [
    "str1 = \"Hello\"\n",
    "str2 = \"World\""
   ]
  },
  {
   "cell_type": "code",
   "execution_count": 67,
   "id": "3d7f70e0",
   "metadata": {},
   "outputs": [
    {
     "name": "stdout",
     "output_type": "stream",
     "text": [
      "Hello World\n"
     ]
    }
   ],
   "source": [
    "print(str1+ \" \" + str2)"
   ]
  },
  {
   "cell_type": "code",
   "execution_count": 65,
   "id": "9f3afd94",
   "metadata": {},
   "outputs": [
    {
     "name": "stdout",
     "output_type": "stream",
     "text": [
      "Hello World Hello Hello Hello\n"
     ]
    }
   ],
   "source": [
    "print(str1, str2, str1, str1, str1)"
   ]
  },
  {
   "cell_type": "markdown",
   "id": "5f2001a6",
   "metadata": {},
   "source": [
    "#### 사용자입력"
   ]
  },
  {
   "cell_type": "code",
   "execution_count": null,
   "id": "a97ea716",
   "metadata": {},
   "outputs": [
    {
     "name": "stdout",
     "output_type": "stream",
     "text": [
      "이름은 박지민 입니다\n"
     ]
    }
   ],
   "source": [
    "name = input(\"이름을 입력하세요:\")\n",
    "print(\"이름은\", name, \"입니다\")"
   ]
  },
  {
   "cell_type": "markdown",
   "id": "3131ded8",
   "metadata": {},
   "source": [
    "#### 형변환"
   ]
  },
  {
   "cell_type": "code",
   "execution_count": null,
   "id": "777c6472",
   "metadata": {},
   "outputs": [],
   "source": [
    "int(), float(), str()"
   ]
  },
  {
   "cell_type": "code",
   "execution_count": 1,
   "id": "1e7327bb",
   "metadata": {},
   "outputs": [
    {
     "data": {
      "text/plain": [
       "7"
      ]
     },
     "execution_count": 1,
     "metadata": {},
     "output_type": "execute_result"
    }
   ],
   "source": [
    "int('7')"
   ]
  },
  {
   "cell_type": "code",
   "execution_count": 83,
   "id": "e2e68e7f",
   "metadata": {},
   "outputs": [
    {
     "data": {
      "text/plain": [
       "3.14"
      ]
     },
     "execution_count": 83,
     "metadata": {},
     "output_type": "execute_result"
    }
   ],
   "source": [
    "float('3.14')"
   ]
  },
  {
   "cell_type": "code",
   "execution_count": 84,
   "id": "7b3504b2",
   "metadata": {},
   "outputs": [
    {
     "data": {
      "text/plain": [
       "'7'"
      ]
     },
     "execution_count": 84,
     "metadata": {},
     "output_type": "execute_result"
    }
   ],
   "source": [
    "str(7)"
   ]
  },
  {
   "cell_type": "code",
   "execution_count": null,
   "id": "0f886401",
   "metadata": {},
   "outputs": [],
   "source": [
    "num1 = 7\n",
    "num2 = 3"
   ]
  },
  {
   "cell_type": "code",
   "execution_count": 81,
   "id": "b4bc56b8",
   "metadata": {},
   "outputs": [
    {
     "data": {
      "text/plain": [
       "'7'"
      ]
     },
     "execution_count": 81,
     "metadata": {},
     "output_type": "execute_result"
    }
   ],
   "source": [
    "'7'"
   ]
  },
  {
   "cell_type": "code",
   "execution_count": null,
   "id": "b0b7c69b",
   "metadata": {},
   "outputs": [],
   "source": [
    "# 미션\n",
    "# 사용자로부터 숫자 입력을 받아서 +, -, *, /  연산 결과를 출력해주세요"
   ]
  },
  {
   "cell_type": "code",
   "execution_count": null,
   "id": "496598c7",
   "metadata": {},
   "outputs": [
    {
     "name": "stdout",
     "output_type": "stream",
     "text": [
      "10\n",
      "4\n",
      "21\n",
      "2.3333333333333335\n"
     ]
    }
   ],
   "source": [
    "num1 = int(input(\"첫 번째 숫자를 입력하세요:\"))\n",
    "num2 = int(input(\"두 번째 숫자를 입력하세요:\"))\n",
    "\n",
    "print(num1+num2) # 7 + 3 = 10\n",
    "print(num1-num2)\n",
    "print(num1*num2)\n",
    "print(num1/num2)"
   ]
  },
  {
   "cell_type": "code",
   "execution_count": 34,
   "id": "95e3db43",
   "metadata": {},
   "outputs": [
    {
     "name": "stdout",
     "output_type": "stream",
     "text": [
      "7 + 3 = 10\n",
      "더하기의 결과: {num1} + {num2} = {num1+num2}\n",
      "더하기의 결과: 7 + 3 = 10\n"
     ]
    }
   ],
   "source": [
    "# f-string\n",
    "num1 = 7\n",
    "num2 = 3\n",
    "\n",
    "print(num1, \"+\", num2, \"=\", num1 + num2)\n",
    "print(\"더하기의 결과: {num1} + {num2} = {num1+num2}\")\n",
    "print(f\"더하기의 결과: {num1} + {num2} = {num1+num2}\")"
   ]
  },
  {
   "cell_type": "code",
   "execution_count": 78,
   "id": "c4f077bf",
   "metadata": {},
   "outputs": [
    {
     "data": {
      "text/plain": [
       "str"
      ]
     },
     "execution_count": 78,
     "metadata": {},
     "output_type": "execute_result"
    }
   ],
   "source": [
    "type(num2)"
   ]
  },
  {
   "cell_type": "code",
   "execution_count": 79,
   "id": "6a83db5a",
   "metadata": {},
   "outputs": [
    {
     "data": {
      "text/plain": [
       "'3'"
      ]
     },
     "execution_count": 79,
     "metadata": {},
     "output_type": "execute_result"
    }
   ],
   "source": [
    "num2"
   ]
  },
  {
   "cell_type": "code",
   "execution_count": null,
   "id": "e218a1fe",
   "metadata": {},
   "outputs": [],
   "source": [
    "mynumber\n",
    "my_number\n",
    "myNumber"
   ]
  },
  {
   "cell_type": "code",
   "execution_count": 86,
   "id": "f528750b",
   "metadata": {},
   "outputs": [],
   "source": [
    "int = 100"
   ]
  },
  {
   "cell_type": "code",
   "execution_count": 87,
   "id": "7e7ed999",
   "metadata": {},
   "outputs": [
    {
     "data": {
      "text/plain": [
       "100"
      ]
     },
     "execution_count": 87,
     "metadata": {},
     "output_type": "execute_result"
    }
   ],
   "source": [
    "int"
   ]
  },
  {
   "cell_type": "code",
   "execution_count": null,
   "id": "87aef0fc",
   "metadata": {},
   "outputs": [
    {
     "name": "stdout",
     "output_type": "stream",
     "text": [
      "Hello\n",
      "Hello\n"
     ]
    }
   ],
   "source": [
    "print(\"Hello\")\n",
    "print('Hello')"
   ]
  },
  {
   "cell_type": "code",
   "execution_count": null,
   "id": "8372efad",
   "metadata": {},
   "outputs": [],
   "source": [
    "\"안녕\"이라고 말했다.\n",
    "'바본가'라고 생각했다."
   ]
  },
  {
   "cell_type": "code",
   "execution_count": 7,
   "id": "ab8853d7",
   "metadata": {},
   "outputs": [
    {
     "name": "stdout",
     "output_type": "stream",
     "text": [
      "\"안녕\"이라고 말했다.\n",
      "순간 '바본가'라고 생각했다.\n"
     ]
    }
   ],
   "source": [
    "print(\"\\\"안녕\\\"이라고 말했다.\")\n",
    "print(\"순간 '바본가'라고 생각했다.\")"
   ]
  },
  {
   "cell_type": "code",
   "execution_count": 8,
   "id": "1f8f3e10",
   "metadata": {},
   "outputs": [],
   "source": [
    "sentense = \"\"\"\n",
    "안녕\n",
    "반가워\n",
    "추워\n",
    " \"\"\"\n"
   ]
  },
  {
   "cell_type": "code",
   "execution_count": 10,
   "id": "0131cd70",
   "metadata": {},
   "outputs": [
    {
     "name": "stdout",
     "output_type": "stream",
     "text": [
      "\n",
      "안녕\n",
      "반가워\n",
      "추워\n",
      " \n"
     ]
    }
   ],
   "source": [
    "print(sentense)"
   ]
  },
  {
   "cell_type": "code",
   "execution_count": null,
   "id": "90033415",
   "metadata": {},
   "outputs": [],
   "source": [
    "''' '''"
   ]
  },
  {
   "cell_type": "code",
   "execution_count": 12,
   "id": "a66590db",
   "metadata": {},
   "outputs": [
    {
     "name": "stdout",
     "output_type": "stream",
     "text": [
      "HelloHelloHelloHelloHello\n"
     ]
    }
   ],
   "source": [
    "print(\"Hello\" * 5)"
   ]
  },
  {
   "cell_type": "code",
   "execution_count": 120,
   "id": "6f4c9a9d",
   "metadata": {},
   "outputs": [
    {
     "name": "stdout",
     "output_type": "stream",
     "text": [
      "Hello Hello\n",
      "\n",
      "Hello\n"
     ]
    }
   ],
   "source": [
    "print('Hello', end=\" \")\n",
    "print('Hello')\n",
    "print()\n",
    "print('Hello')"
   ]
  },
  {
   "cell_type": "code",
   "execution_count": null,
   "id": "f1c5c597",
   "metadata": {},
   "outputs": [
    {
     "name": "stdout",
     "output_type": "stream",
     "text": [
      "Hello/Hello/Hello/Hello/Hello,Hello/Hello/Hello/Hello/Hello,"
     ]
    }
   ],
   "source": [
    "print(\"Hello\",\"Hello\",\"Hello\",\"Hello\",\"Hello\", end=\",\", sep=\"/\")\n",
    "print(\"Hello\",\"Hello\",\"Hello\",\"Hello\",\"Hello\", end=\",\", sep=\"/\")"
   ]
  },
  {
   "cell_type": "markdown",
   "id": "b0372c79",
   "metadata": {},
   "source": [
    "#### bool 자료형"
   ]
  },
  {
   "cell_type": "code",
   "execution_count": null,
   "id": "a998ec8b",
   "metadata": {},
   "outputs": [],
   "source": [
    "True 참, False 거짓"
   ]
  },
  {
   "cell_type": "code",
   "execution_count": null,
   "id": "013dafb1",
   "metadata": {},
   "outputs": [
    {
     "data": {
      "text/plain": [
       "True"
      ]
     },
     "execution_count": 35,
     "metadata": {},
     "output_type": "execute_result"
    }
   ],
   "source": [
    "1 == 1"
   ]
  },
  {
   "cell_type": "code",
   "execution_count": 39,
   "id": "b532f656",
   "metadata": {},
   "outputs": [
    {
     "name": "stdout",
     "output_type": "stream",
     "text": [
      "<class 'bool'>\n"
     ]
    }
   ],
   "source": [
    "print(type(True))"
   ]
  },
  {
   "cell_type": "code",
   "execution_count": null,
   "id": "34b10a0e",
   "metadata": {},
   "outputs": [],
   "source": [
    "int(), str(), float(), bool()"
   ]
  },
  {
   "cell_type": "code",
   "execution_count": 40,
   "id": "9098c089",
   "metadata": {},
   "outputs": [
    {
     "data": {
      "text/plain": [
       "False"
      ]
     },
     "execution_count": 40,
     "metadata": {},
     "output_type": "execute_result"
    }
   ],
   "source": [
    "bool(0)"
   ]
  },
  {
   "cell_type": "code",
   "execution_count": 41,
   "id": "2f28fb6b",
   "metadata": {},
   "outputs": [
    {
     "data": {
      "text/plain": [
       "True"
      ]
     },
     "execution_count": 41,
     "metadata": {},
     "output_type": "execute_result"
    }
   ],
   "source": [
    "bool(1)"
   ]
  },
  {
   "cell_type": "code",
   "execution_count": 43,
   "id": "c7fe7d4e",
   "metadata": {},
   "outputs": [
    {
     "data": {
      "text/plain": [
       "True"
      ]
     },
     "execution_count": 43,
     "metadata": {},
     "output_type": "execute_result"
    }
   ],
   "source": [
    "bool(-1)"
   ]
  },
  {
   "cell_type": "code",
   "execution_count": 44,
   "id": "28fa62af",
   "metadata": {},
   "outputs": [
    {
     "data": {
      "text/plain": [
       "False"
      ]
     },
     "execution_count": 44,
     "metadata": {},
     "output_type": "execute_result"
    }
   ],
   "source": [
    "bool('')"
   ]
  },
  {
   "cell_type": "code",
   "execution_count": 45,
   "id": "2c1361f0",
   "metadata": {},
   "outputs": [
    {
     "data": {
      "text/plain": [
       "True"
      ]
     },
     "execution_count": 45,
     "metadata": {},
     "output_type": "execute_result"
    }
   ],
   "source": [
    "bool('python')"
   ]
  },
  {
   "cell_type": "code",
   "execution_count": null,
   "id": "207aced4",
   "metadata": {},
   "outputs": [],
   "source": []
  },
  {
   "cell_type": "code",
   "execution_count": null,
   "id": "32773e97",
   "metadata": {},
   "outputs": [],
   "source": [
    "print(\"Hello\")\n",
    "print(\"아 졸려\")\n",
    "print(\"Hello\")"
   ]
  },
  {
   "cell_type": "markdown",
   "id": "69d7cc88",
   "metadata": {},
   "source": [
    "### 조건문"
   ]
  },
  {
   "cell_type": "code",
   "execution_count": null,
   "id": "baa94cc0",
   "metadata": {},
   "outputs": [],
   "source": [
    "# 조건에 따라서 명령어의 실행여부가 결정\n",
    "\n",
    "if 조건:\n",
    "    실행할명령\n",
    "\n",
    "조건문밖의명령어"
   ]
  },
  {
   "cell_type": "code",
   "execution_count": null,
   "id": "2711d039",
   "metadata": {},
   "outputs": [
    {
     "ename": "IndentationError",
     "evalue": "unexpected indent (1875613596.py, line 6)",
     "output_type": "error",
     "traceback": [
      "\u001b[1;36m  Cell \u001b[1;32mIn[51], line 6\u001b[1;36m\u001b[0m\n\u001b[1;33m    print(\"택시도탄다 \")\u001b[0m\n\u001b[1;37m    ^\u001b[0m\n\u001b[1;31mIndentationError\u001b[0m\u001b[1;31m:\u001b[0m unexpected indent\n"
     ]
    }
   ],
   "source": [
    "money = False\n",
    "\n",
    "if money:\n",
    "    print(\"스테이크를 먹는다\")\n",
    "print(\"커피를 마신다\")\n",
    "print(\"택시도탄다 \")\n",
    "print('조건문종료')"
   ]
  },
  {
   "cell_type": "code",
   "execution_count": null,
   "id": "c76c335c",
   "metadata": {},
   "outputs": [],
   "source": [
    "if 조건:\n",
    "    수행할명령\n",
    "else:\n",
    "    다른명령"
   ]
  },
  {
   "cell_type": "code",
   "execution_count": null,
   "id": "03e68a47",
   "metadata": {},
   "outputs": [],
   "source": [
    "if 조건:\n",
    "    수행할명령\n",
    "elif 조건2:\n",
    "    수행할명령2\n",
    "elif 조건3:\n",
    "    수행할명령3....\n"
   ]
  },
  {
   "cell_type": "code",
   "execution_count": null,
   "id": "0a51526e",
   "metadata": {},
   "outputs": [],
   "source": [
    "if 조건:\n",
    "    수행할명령\n",
    "elif 조건2:\n",
    "    수행할명령2\n",
    "elif 조건3:\n",
    "    수행할명령3....\n",
    "else:\n",
    "    나머지에대한명령"
   ]
  },
  {
   "cell_type": "code",
   "execution_count": 54,
   "id": "403827eb",
   "metadata": {},
   "outputs": [
    {
     "name": "stdout",
     "output_type": "stream",
     "text": [
      "짝수\n"
     ]
    }
   ],
   "source": [
    "# 짝수홀수구분\n",
    "\n",
    "# num % 2 == 0 -> 짝수\n",
    "\n",
    "num = 2\n",
    "\n",
    "if num % 2 == 0:\n",
    "    print('짝수')\n",
    "else:\n",
    "    print('홀수')"
   ]
  },
  {
   "cell_type": "code",
   "execution_count": 56,
   "id": "5dd0bea0",
   "metadata": {},
   "outputs": [
    {
     "name": "stdout",
     "output_type": "stream",
     "text": [
      "작아요\n"
     ]
    }
   ],
   "source": [
    "num = 10\n",
    "\n",
    "if num > 100:\n",
    "    print('너무커요')\n",
    "else:\n",
    "    print('작아요')"
   ]
  },
  {
   "cell_type": "code",
   "execution_count": null,
   "id": "3bfa445e",
   "metadata": {},
   "outputs": [],
   "source": [
    "and, or"
   ]
  },
  {
   "cell_type": "code",
   "execution_count": 59,
   "id": "f94338dd",
   "metadata": {},
   "outputs": [
    {
     "name": "stdout",
     "output_type": "stream",
     "text": [
      "좀 더 노력하세요\n"
     ]
    }
   ],
   "source": [
    "eng = 80\n",
    "math = 100\n",
    "\n",
    "if eng >= 90 and  math >= 90:\n",
    "    print('스티커')\n",
    "else:\n",
    "    print('좀 더 노력하세요')"
   ]
  },
  {
   "cell_type": "code",
   "execution_count": null,
   "id": "db384843",
   "metadata": {},
   "outputs": [
    {
     "ename": "IndentationError",
     "evalue": "expected an indented block after 'if' statement on line 2 (2573736888.py, line 3)",
     "output_type": "error",
     "traceback": [
      "\u001b[1;36m  Cell \u001b[1;32mIn[60], line 3\u001b[1;36m\u001b[0m\n\u001b[1;33m    print('둘다 성공')\u001b[0m\n\u001b[1;37m    ^\u001b[0m\n\u001b[1;31mIndentationError\u001b[0m\u001b[1;31m:\u001b[0m expected an indented block after 'if' statement on line 2\n"
     ]
    }
   ],
   "source": [
    "if eng >= 90:\n",
    "    if math >= 90:\n",
    "        print('둘다 성공')\n",
    "    else:\n",
    "        print('좀 더 노력')\n",
    "else:\n",
    "    print('많이 노력')"
   ]
  },
  {
   "cell_type": "code",
   "execution_count": null,
   "id": "542a4b29",
   "metadata": {},
   "outputs": [],
   "source": [
    "print() "
   ]
  },
  {
   "cell_type": "markdown",
   "id": "1c2d12ab",
   "metadata": {},
   "source": [
    "### 반복문\n",
    "\n",
    "for, while"
   ]
  },
  {
   "cell_type": "code",
   "execution_count": null,
   "id": "d3b683b1",
   "metadata": {},
   "outputs": [],
   "source": [
    "for 변수 in 이터러블:\n",
    "    반복할문장"
   ]
  },
  {
   "cell_type": "code",
   "execution_count": null,
   "id": "f3e07cee",
   "metadata": {},
   "outputs": [
    {
     "name": "stdout",
     "output_type": "stream",
     "text": [
      "1번째 Hello\n",
      "3번째 Hello\n",
      "5번째 Hello\n",
      "7번째 Hello\n",
      "9번째 Hello\n"
     ]
    }
   ],
   "source": [
    "for i in range(1, 10 +1, 2): # start, end, step\n",
    "    print(f\"{i}번째 Hello\")"
   ]
  },
  {
   "cell_type": "code",
   "execution_count": 68,
   "id": "f628351f",
   "metadata": {},
   "outputs": [
    {
     "name": "stdout",
     "output_type": "stream",
     "text": [
      "10번째 Hello\n",
      "9번째 Hello\n",
      "8번째 Hello\n",
      "7번째 Hello\n",
      "6번째 Hello\n",
      "5번째 Hello\n",
      "4번째 Hello\n",
      "3번째 Hello\n",
      "2번째 Hello\n",
      "1번째 Hello\n"
     ]
    }
   ],
   "source": [
    "for i in range(10, 0, -1): # start, end, step\n",
    "    print(f\"{i}번째 Hello\")"
   ]
  },
  {
   "cell_type": "code",
   "execution_count": 80,
   "id": "ca4f429e",
   "metadata": {},
   "outputs": [
    {
     "name": "stdout",
     "output_type": "stream",
     "text": [
      "55\n"
     ]
    }
   ],
   "source": [
    "# for 반복문과 range()함수를 사용해서 1부터 10까지의 합을 출력해주세요!\n",
    "sum = 0\n",
    "for i in range(1, 10 +1):\n",
    "    # print(i)  # 1 + 2 + 3 + 4, 5, 6, 7, 8, 9, 10\n",
    "    # sum = sum + i\n",
    "    sum += i\n",
    "print(sum)"
   ]
  },
  {
   "cell_type": "code",
   "execution_count": null,
   "id": "c4b2d862",
   "metadata": {},
   "outputs": [],
   "source": [
    "# for 반복문과 range()함수를 사용해서 1부터 10까지의 곱을 출력해주세요!"
   ]
  },
  {
   "cell_type": "code",
   "execution_count": null,
   "id": "24de988a",
   "metadata": {},
   "outputs": [],
   "source": [
    "# for 반복문과 range()함수를 사용해서 사용자로부터 입력받은 숫자에 해당하는 구구단을 출력해주세요!"
   ]
  },
  {
   "cell_type": "code",
   "execution_count": null,
   "id": "6b6caddc",
   "metadata": {},
   "outputs": [],
   "source": [
    "while 조건:\n",
    "    반복할문장들"
   ]
  },
  {
   "cell_type": "code",
   "execution_count": null,
   "id": "09fc3db2",
   "metadata": {},
   "outputs": [
    {
     "name": "stdout",
     "output_type": "stream",
     "text": [
      "1번째 Hello\n",
      "2번째 Hello\n",
      "3번째 Hello\n",
      "4번째 Hello\n",
      "5번째 Hello\n"
     ]
    }
   ],
   "source": [
    "# print('Hello') 5번만 출력\n",
    "\n",
    "i = 1\n",
    "while i <= 5:\n",
    "    print(f\"{i}번째 Hello\")\n",
    "    i = i + 1 # "
   ]
  },
  {
   "cell_type": "code",
   "execution_count": null,
   "id": "e3eb326b",
   "metadata": {},
   "outputs": [
    {
     "ename": "KeyboardInterrupt",
     "evalue": "",
     "output_type": "error",
     "traceback": [
      "\u001b[1;31m---------------------------------------------------------------------------\u001b[0m",
      "\u001b[1;31mKeyboardInterrupt\u001b[0m                         Traceback (most recent call last)",
      "Cell \u001b[1;32mIn[79], line 6\u001b[0m\n\u001b[0;32m      4\u001b[0m \u001b[38;5;28msum\u001b[39m \u001b[38;5;241m=\u001b[39m \u001b[38;5;241m0\u001b[39m\n\u001b[0;32m      5\u001b[0m i \u001b[38;5;241m=\u001b[39m \u001b[38;5;241m1\u001b[39m\n\u001b[1;32m----> 6\u001b[0m \u001b[38;5;28;01mwhile\u001b[39;00m i \u001b[38;5;241m<\u001b[39m\u001b[38;5;241m=\u001b[39m my_num:\n\u001b[0;32m      7\u001b[0m     \u001b[38;5;28msum\u001b[39m \u001b[38;5;241m=\u001b[39m \u001b[38;5;28msum\u001b[39m \u001b[38;5;241m+\u001b[39m i\n\u001b[0;32m      8\u001b[0m     \u001b[38;5;66;03m# i = i + 1 ######\u001b[39;00m\n",
      "\u001b[1;31mKeyboardInterrupt\u001b[0m: "
     ]
    }
   ],
   "source": [
    "# while문을 이용해서 1부터 사용자로부터 입력받은 정수값까지의 합을 구해주세요\n",
    "my_num = int(input())\n",
    "\n",
    "sum = 0\n",
    "i = 1\n",
    "while i <= my_num:\n",
    "    sum = sum + i\n",
    "    i = i + 1 ######\n",
    "print(sum)"
   ]
  },
  {
   "cell_type": "code",
   "execution_count": null,
   "id": "f043151f",
   "metadata": {},
   "outputs": [],
   "source": [
    "# while문을 이용해서 1부터 사용자로부터 입력받은 정수값까지의 곱을 구해주세요"
   ]
  },
  {
   "cell_type": "code",
   "execution_count": null,
   "id": "bc5c75b5",
   "metadata": {},
   "outputs": [],
   "source": [
    "# while문을 사용해서 사용자로부터 입력받은 숫자에 해당하는 구구단을 출력해주세요!"
   ]
  },
  {
   "cell_type": "code",
   "execution_count": null,
   "id": "72b663fd",
   "metadata": {},
   "outputs": [
    {
     "name": "stdout",
     "output_type": "stream",
     "text": [
      "5.0\n"
     ]
    }
   ],
   "source": [
    "sum = 10\n",
    "\n",
    "sum += 2\n",
    "print(sum)"
   ]
  },
  {
   "cell_type": "code",
   "execution_count": 87,
   "id": "12ca24ce",
   "metadata": {},
   "outputs": [],
   "source": [
    "prompt = \"\"\"\n",
    "1. Add\n",
    "2. Del\n",
    "3. List\n",
    "4. Quit\n",
    "\n",
    "Enter number: \"\"\""
   ]
  },
  {
   "cell_type": "code",
   "execution_count": null,
   "id": "1acf2412",
   "metadata": {},
   "outputs": [],
   "source": [
    "number = 0\n",
    "while number !=4:\n",
    "    print(prompt)\n",
    "    number = int(input(\"원하는 메뉴의 번호를 입력하세요: \"))"
   ]
  },
  {
   "cell_type": "code",
   "execution_count": null,
   "id": "35fd1658",
   "metadata": {},
   "outputs": [],
   "source": [
    "number = 0\n",
    "while True:\n",
    "    print(prompt)\n",
    "    number = int(input(\"원하는 메뉴의 번호를 입력하세요: \"))\n",
    "    if number == 4:\n",
    "        break"
   ]
  },
  {
   "cell_type": "markdown",
   "id": "6ef94070",
   "metadata": {},
   "source": [
    "#### break, continue"
   ]
  },
  {
   "cell_type": "code",
   "execution_count": 90,
   "id": "4e4de0ab",
   "metadata": {},
   "outputs": [
    {
     "name": "stdout",
     "output_type": "stream",
     "text": [
      "정수: 6, 합계: 21\n",
      "21\n"
     ]
    }
   ],
   "source": [
    "# 1부터 10까지 더하되, 합이 20 이상이 되는 때의 정수값을 찾고싶어\n",
    "\n",
    "sum = 0\n",
    "for i in range(1, 10 +1):\n",
    "    sum += i\n",
    "    if sum >= 20:\n",
    "        print(f\"정수: {i}, 합계: {sum}\")\n",
    "        break\n",
    "print(sum)"
   ]
  },
  {
   "cell_type": "code",
   "execution_count": 92,
   "id": "867e67e9",
   "metadata": {},
   "outputs": [
    {
     "name": "stdout",
     "output_type": "stream",
     "text": [
      "1 2 4 5 7 8 "
     ]
    }
   ],
   "source": [
    "for i in range(10):\n",
    "    if i % 3 == 0:\n",
    "        continue\n",
    "    print(i, end=\" \")"
   ]
  },
  {
   "cell_type": "code",
   "execution_count": 101,
   "id": "a2368212",
   "metadata": {},
   "outputs": [
    {
     "name": "stdout",
     "output_type": "stream",
     "text": [
      "46\n"
     ]
    }
   ],
   "source": [
    "import random\n",
    "answer=random.randint(1,100)\n",
    "print(answer)"
   ]
  },
  {
   "cell_type": "code",
   "execution_count": null,
   "id": "5baee7e6",
   "metadata": {},
   "outputs": [
    {
     "ename": "SyntaxError",
     "evalue": "invalid syntax (1557584209.py, line 5)",
     "output_type": "error",
     "traceback": [
      "\u001b[1;36m  Cell \u001b[1;32mIn[104], line 5\u001b[1;36m\u001b[0m\n\u001b[1;33m    while:\u001b[0m\n\u001b[1;37m         ^\u001b[0m\n\u001b[1;31mSyntaxError\u001b[0m\u001b[1;31m:\u001b[0m invalid syntax\n"
     ]
    }
   ],
   "source": [
    "import random\n",
    "answer=random.randint(1,100)\n",
    "print(answer)\n",
    "\n",
    "while True:\n",
    "    guess = int(input('1부터 100사이의 숫자를 맞춰주세요: '))\n",
    "    if guess == answer:\n",
    "        print('정답입니다')\n",
    "        break\n",
    "    elif guess > answer:\n",
    "        print('너무 커요')\n",
    "    else:\n",
    "        print('너무 작아요')\n",
    "print('게임종료')"
   ]
  },
  {
   "cell_type": "code",
   "execution_count": null,
   "id": "eac7b109",
   "metadata": {},
   "outputs": [],
   "source": [
    "# 몇번만에 맞췄는지...\n",
    "# 10번안에 못맞추면 게임종료\n",
    "# "
   ]
  },
  {
   "cell_type": "code",
   "execution_count": 106,
   "id": "0f3833ec",
   "metadata": {},
   "outputs": [
    {
     "name": "stdout",
     "output_type": "stream",
     "text": [
      "1 2 4 7 8 11 13 14 16 17 19 "
     ]
    }
   ],
   "source": [
    "i = 0\n",
    "while True:\n",
    "    i += 1\n",
    "    if i >= 20:\n",
    "        # print(f\"{i} break\")\n",
    "        break\n",
    "    if i % 3 == 0 or i % 5 == 0:\n",
    "        # print(f\"{i} continue\")\n",
    "        continue\n",
    "    print(i,end=\" \")"
   ]
  },
  {
   "cell_type": "code",
   "execution_count": null,
   "id": "163642d2",
   "metadata": {},
   "outputs": [],
   "source": [
    "# 중첩반복문\n",
    "# 2단부터 9단까지 출력해주세요\n",
    "2 * 1 = 2\n",
    "2 * 2 = 4\n",
    "2 * 3 = 6"
   ]
  },
  {
   "cell_type": "code",
   "execution_count": null,
   "id": "7614fb6c",
   "metadata": {},
   "outputs": [],
   "source": [
    "# dan = 2 ~ 9\n",
    "\n",
    "for dan in range(2, 10):\n",
    "    print(dan)\n",
    "\n",
    "for i in range(1, 10):\n",
    "    print(f\"{dan} * {i} = { dan * i}\")"
   ]
  },
  {
   "cell_type": "code",
   "execution_count": null,
   "id": "cd9d8d0c",
   "metadata": {},
   "outputs": [],
   "source": [
    "for dan in range(2, 10):\n",
    "    for i in range(1, 10):\n",
    "        print(f\"{dan} * {i} = { dan * i}\")"
   ]
  },
  {
   "cell_type": "code",
   "execution_count": null,
   "id": "5800c25c",
   "metadata": {},
   "outputs": [],
   "source": [
    "2 4 6 8 .... 18\n",
    "3 6 9 ....  27\n",
    "\n",
    "9 18 27      81"
   ]
  },
  {
   "cell_type": "code",
   "execution_count": 123,
   "id": "1bbb5f21",
   "metadata": {},
   "outputs": [
    {
     "name": "stdout",
     "output_type": "stream",
     "text": [
      "2 4 6 8 10 12 14 16 18 \n",
      "3 6 9 12 15 18 21 24 27 \n",
      "4 8 12 16 20 24 28 32 36 \n",
      "5 10 15 20 25 30 35 40 45 \n",
      "6 12 18 24 30 36 42 48 54 \n",
      "7 14 21 28 35 42 49 56 63 \n",
      "8 16 24 32 40 48 56 64 72 \n",
      "9 18 27 36 45 54 63 72 81 \n"
     ]
    }
   ],
   "source": [
    "for dan in range(2, 10):\n",
    "    for i in range(1, 10):\n",
    "        print(dan* i, end= \" \")\n",
    "    print()"
   ]
  },
  {
   "attachments": {
    "image.png": {
     "image/png": "[encoded data removed]"
    }
   },
   "cell_type": "markdown",
   "id": "a6c51b7a",
   "metadata": {},
   "source": [
    "![image.png](attachment:image.png)"
   ]
  },
  {
   "cell_type": "code",
   "execution_count": null,
   "id": "5258093d",
   "metadata": {},
   "outputs": [],
   "source": [
    "*\n",
    "***\n",
    "*****\n",
    "*******\n",
    "*********\n",
    "***********\n",
    "*************\n",
    "***************\n",
    "*****************\n",
    "*******************"
   ]
  },
  {
   "cell_type": "code",
   "execution_count": null,
   "id": "2faca03d",
   "metadata": {},
   "outputs": [],
   "source": [
    "*******************\n",
    "*****************\n",
    "***************\n",
    "*************\n",
    "***********\n",
    "*********\n",
    "*******\n",
    "*****\n",
    "***\n",
    "*\n"
   ]
  },
  {
   "cell_type": "code",
   "execution_count": null,
   "id": "f95314e7",
   "metadata": {},
   "outputs": [],
   "source": [
    "         *\n",
    "        **\n",
    "       ***\n",
    "      ****\n",
    "     *****\n",
    "    ******\n",
    "   *******\n",
    "  ********\n",
    " *********\n",
    "**********\n"
   ]
  },
  {
   "cell_type": "code",
   "execution_count": null,
   "id": "7cd0b5e2",
   "metadata": {},
   "outputs": [],
   "source": [
    "1. 문자열반복연산\n",
    "2. 중첩반복문"
   ]
  }
 ],
 "metadata": {
  "kernelspec": {
   "display_name": "Python 3",
   "language": "python",
   "name": "python3"
  },
  "language_info": {
   "codemirror_mode": {
    "name": "ipython",
    "version": 3
   },
   "file_extension": ".py",
   "mimetype": "text/x-python",
   "name": "python",
   "nbconvert_exporter": "python",
   "pygments_lexer": "ipython3",
   "version": "3.11.9"
  }
 },
 "nbformat": 4,
 "nbformat_minor": 5
}
