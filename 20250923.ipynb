{
 "cells": [
  {
   "cell_type": "code",
   "execution_count": 3,
   "id": "940b1081",
   "metadata": {},
   "outputs": [
    {
     "ename": "SyntaxError",
     "evalue": "name 'a' is parameter and global (1257068011.py, line 3)",
     "output_type": "error",
     "traceback": [
      "\u001b[1;36m  Cell \u001b[1;32mIn[3], line 3\u001b[1;36m\u001b[0m\n\u001b[1;33m    global a\u001b[0m\n\u001b[1;37m    ^\u001b[0m\n\u001b[1;31mSyntaxError\u001b[0m\u001b[1;31m:\u001b[0m name 'a' is parameter and global\n"
     ]
    }
   ],
   "source": [
    "a = 1\n",
    "def vartest(a):\n",
    "    global a\n",
    "    a = a + 5\n",
    "\n",
    "print(a)\n",
    "vartest(3)\n",
    "print(a)"
   ]
  },
  {
   "cell_type": "code",
   "execution_count": 3,
   "id": "a63cec28",
   "metadata": {},
   "outputs": [
    {
     "name": "stdout",
     "output_type": "stream",
     "text": [
      "1\n"
     ]
    }
   ],
   "source": [
    "def vartest(a):\n",
    "    a = a + 1\n",
    "\n",
    "vartest(3)\n",
    "print(a)"
   ]
  },
  {
   "cell_type": "code",
   "execution_count": 6,
   "id": "0c5d7dd9",
   "metadata": {},
   "outputs": [
    {
     "name": "stdout",
     "output_type": "stream",
     "text": [
      "<zip object at 0x000002BCBA923AC0>\n",
      "[(52, 19, 52), (255, 0, 255), (39, 227, 39), (132, 132, 187)]\n",
      "(52, 19, 52)\n",
      "<class 'tuple'>\n"
     ]
    }
   ],
   "source": [
    "r = (52, 255, 39, 132)\n",
    "g = (19, 0, 227, 132)\n",
    "b = (52, 255, 39, 187)\n",
    "\n",
    "zip_object = zip(r, g, b)\n",
    "print(zip_object)\n",
    "\n",
    "img = list(zip_object)\n",
    "print(img)\n",
    "\n",
    "print(img[0])\n",
    "print(type(img[0]))"
   ]
  },
  {
   "cell_type": "code",
   "execution_count": 7,
   "id": "2c30c53d",
   "metadata": {},
   "outputs": [],
   "source": [
    "fruits = ['apple', 'banana', 'cherry', 'date']"
   ]
  },
  {
   "cell_type": "code",
   "execution_count": 10,
   "id": "b99d9d26",
   "metadata": {},
   "outputs": [
    {
     "name": "stdout",
     "output_type": "stream",
     "text": [
      "0 apple\n",
      "1 banana\n",
      "2 cherry\n",
      "3 date\n"
     ]
    }
   ],
   "source": [
    "a = 0\n",
    "for i in fruits:\n",
    "    print(a, i)\n",
    "    a+=1"
   ]
  },
  {
   "cell_type": "code",
   "execution_count": 9,
   "id": "b1cee7f4",
   "metadata": {},
   "outputs": [
    {
     "name": "stdout",
     "output_type": "stream",
     "text": [
      "0 apple\n",
      "1 banana\n",
      "2 cherry\n",
      "3 date\n"
     ]
    }
   ],
   "source": [
    "for i in range(len(fruits)):\n",
    "    print(i, fruits[i])"
   ]
  },
  {
   "cell_type": "code",
   "execution_count": 11,
   "id": "dd1e60fd",
   "metadata": {},
   "outputs": [],
   "source": [
    "f = ('apple', 'banana', 'cherry', 'date')"
   ]
  },
  {
   "cell_type": "code",
   "execution_count": 17,
   "id": "e6c5dff2",
   "metadata": {},
   "outputs": [
    {
     "data": {
      "text/plain": [
       "<enumerate at 0x2bcba8a77e0>"
      ]
     },
     "execution_count": 17,
     "metadata": {},
     "output_type": "execute_result"
    }
   ],
   "source": [
    "enumerate(f, 1)"
   ]
  },
  {
   "cell_type": "code",
   "execution_count": 22,
   "id": "2188fcb5",
   "metadata": {},
   "outputs": [
    {
     "data": {
      "text/plain": [
       "{1: 'apple', 2: 'banana', 3: 'cherry', 4: 'date'}"
      ]
     },
     "execution_count": 22,
     "metadata": {},
     "output_type": "execute_result"
    }
   ],
   "source": [
    "dict(enumerate(f, 1))"
   ]
  },
  {
   "cell_type": "code",
   "execution_count": 24,
   "id": "87d7c8ff",
   "metadata": {},
   "outputs": [],
   "source": [
    "mylist = [ 1, 2, 3, 4, 5]\n",
    "# -> [2, 3, 4, 5, 6]"
   ]
  },
  {
   "cell_type": "code",
   "execution_count": 26,
   "id": "ae67e3de",
   "metadata": {},
   "outputs": [],
   "source": [
    "result = []"
   ]
  },
  {
   "cell_type": "code",
   "execution_count": 27,
   "id": "d9b7b62e",
   "metadata": {},
   "outputs": [
    {
     "ename": "IndexError",
     "evalue": "list assignment index out of range",
     "output_type": "error",
     "traceback": [
      "\u001b[1;31m---------------------------------------------------------------------------\u001b[0m",
      "\u001b[1;31mIndexError\u001b[0m                                Traceback (most recent call last)",
      "Cell \u001b[1;32mIn[27], line 1\u001b[0m\n\u001b[1;32m----> 1\u001b[0m \u001b[43mresult\u001b[49m\u001b[43m[\u001b[49m\u001b[38;5;241;43m1\u001b[39;49m\u001b[43m]\u001b[49m \u001b[38;5;241m=\u001b[39m \u001b[38;5;241m3\u001b[39m\n",
      "\u001b[1;31mIndexError\u001b[0m: list assignment index out of range"
     ]
    }
   ],
   "source": [
    "result[1] = 3"
   ]
  },
  {
   "cell_type": "code",
   "execution_count": 25,
   "id": "abd66c47",
   "metadata": {},
   "outputs": [
    {
     "name": "stdout",
     "output_type": "stream",
     "text": [
      "[2, 3, 4, 5, 6]\n"
     ]
    }
   ],
   "source": [
    "result = []\n",
    "for i in mylist:\n",
    "    result.append(i + 1)\n",
    "\n",
    "print(result)"
   ]
  },
  {
   "cell_type": "code",
   "execution_count": 29,
   "id": "692e8e9f",
   "metadata": {},
   "outputs": [
    {
     "data": {
      "text/plain": [
       "[2, 3, 4, 5, 6]"
      ]
     },
     "execution_count": 29,
     "metadata": {},
     "output_type": "execute_result"
    }
   ],
   "source": [
    "mylist = [ 1, 2, 3, 4, 5]\n",
    "\n",
    "def add_one(n):\n",
    "    return n + 1\n",
    "\n",
    "result = list(map(add_one,mylist))\n",
    "result"
   ]
  },
  {
   "cell_type": "code",
   "execution_count": 38,
   "id": "8b3070d8",
   "metadata": {},
   "outputs": [
    {
     "data": {
      "text/plain": [
       "[1, 4, 9, 16, 25]"
      ]
     },
     "execution_count": 38,
     "metadata": {},
     "output_type": "execute_result"
    }
   ],
   "source": [
    "mylist = [ 1, 2, 3, 4, 5]\n",
    "\n",
    "result = list(map(lambda x: x**2 ,mylist))\n",
    "result"
   ]
  },
  {
   "cell_type": "code",
   "execution_count": null,
   "id": "beb0c723",
   "metadata": {},
   "outputs": [],
   "source": [
    "result = []\n",
    "for i in range(len(mylist)):\n",
    "    result.append(add_one(mylist[i]))\n",
    "\n",
    "result"
   ]
  },
  {
   "cell_type": "code",
   "execution_count": 31,
   "id": "e41d506a",
   "metadata": {},
   "outputs": [
    {
     "data": {
      "text/plain": [
       "[3, -6, 100, 25]"
      ]
     },
     "execution_count": 31,
     "metadata": {},
     "output_type": "execute_result"
    }
   ],
   "source": [
    "mylist = [ 3.14, -5.6, 100.4, 25.0]\n",
    "\n",
    "result = list(map(round,mylist))\n",
    "result"
   ]
  },
  {
   "cell_type": "code",
   "execution_count": 30,
   "id": "e511a83b",
   "metadata": {},
   "outputs": [
    {
     "data": {
      "text/plain": [
       "100"
      ]
     },
     "execution_count": 30,
     "metadata": {},
     "output_type": "execute_result"
    }
   ],
   "source": [
    "round(100.4)"
   ]
  },
  {
   "cell_type": "code",
   "execution_count": 33,
   "id": "3cf8d928",
   "metadata": {},
   "outputs": [],
   "source": [
    "a = [8, 3, 2, 10, 15, 7, 1, 0, 11]"
   ]
  },
  {
   "cell_type": "code",
   "execution_count": 39,
   "id": "0456992c",
   "metadata": {},
   "outputs": [
    {
     "data": {
      "text/plain": [
       "[8, 7]"
      ]
     },
     "execution_count": 39,
     "metadata": {},
     "output_type": "execute_result"
    }
   ],
   "source": [
    "list(filter(lambda x: x>5 and x<10, a))"
   ]
  },
  {
   "cell_type": "code",
   "execution_count": 35,
   "id": "bd7fd865",
   "metadata": {},
   "outputs": [],
   "source": [
    "def f(x):\n",
    "    return x > 5 and x < 10"
   ]
  },
  {
   "cell_type": "code",
   "execution_count": 36,
   "id": "1d2f733a",
   "metadata": {},
   "outputs": [
    {
     "data": {
      "text/plain": [
       "[8, 7]"
      ]
     },
     "execution_count": 36,
     "metadata": {},
     "output_type": "execute_result"
    }
   ],
   "source": [
    "list(filter(f, a))"
   ]
  },
  {
   "cell_type": "code",
   "execution_count": 34,
   "id": "02d446ef",
   "metadata": {},
   "outputs": [
    {
     "data": {
      "text/plain": [
       "[8, 7]"
      ]
     },
     "execution_count": 34,
     "metadata": {},
     "output_type": "execute_result"
    }
   ],
   "source": [
    "result = []\n",
    "for i in a:\n",
    "    if i > 5 and i < 10:\n",
    "        result.append(i)\n",
    "\n",
    "result"
   ]
  },
  {
   "cell_type": "code",
   "execution_count": 40,
   "id": "ff6adb72",
   "metadata": {},
   "outputs": [
    {
     "name": "stdout",
     "output_type": "stream",
     "text": [
      "[1, 4, 9, 16]\n"
     ]
    }
   ],
   "source": [
    "numbers = [1, 2, 3, 4]\n",
    "squared = list(map(lambda x: x**2 , numbers))\n",
    "print(squared)"
   ]
  },
  {
   "cell_type": "code",
   "execution_count": 41,
   "id": "a97b98dc",
   "metadata": {},
   "outputs": [
    {
     "name": "stdout",
     "output_type": "stream",
     "text": [
      "[2, 4, 6]\n"
     ]
    }
   ],
   "source": [
    "numbers = [1, 2, 3, 4, 5, 6]\n",
    "even_numbers = list(filter(lambda x: x % 2==0 , numbers))\n",
    "print(even_numbers)"
   ]
  },
  {
   "cell_type": "code",
   "execution_count": 63,
   "id": "9c1e09bb",
   "metadata": {},
   "outputs": [
    {
     "name": "stdout",
     "output_type": "stream",
     "text": [
      "[(4, 1), (5, 1), (1, 2), (3, 4)]\n"
     ]
    }
   ],
   "source": [
    "points = [(1, 2),(3, 4),( 5, 1), (4, 1)]\n",
    "sorted_points = sorted(points, key=lambda x: (x[1], x[0]))\n",
    "print(sorted_points)"
   ]
  },
  {
   "cell_type": "code",
   "execution_count": 55,
   "id": "a04e0c1d",
   "metadata": {},
   "outputs": [],
   "source": [
    "points = [(1, 2),(3, 4),( 5, 1)]"
   ]
  },
  {
   "cell_type": "code",
   "execution_count": 59,
   "id": "04ab1734",
   "metadata": {},
   "outputs": [
    {
     "name": "stdout",
     "output_type": "stream",
     "text": [
      "2\n",
      "4\n",
      "1\n"
     ]
    }
   ],
   "source": [
    "for i in points:\n",
    "    print(i[1])"
   ]
  },
  {
   "cell_type": "code",
   "execution_count": null,
   "id": "4b25bc0c",
   "metadata": {},
   "outputs": [],
   "source": [
    "[( 5, 1),(1, 2),(3, 4)]"
   ]
  },
  {
   "cell_type": "code",
   "execution_count": 53,
   "id": "4d807f69",
   "metadata": {},
   "outputs": [
    {
     "name": "stdout",
     "output_type": "stream",
     "text": [
      "[(1, 2), (3, 4), (5, 1)]\n"
     ]
    }
   ],
   "source": [
    "points = [(1, 2),(3, 4),( 5, 1)]\n",
    "sorted_points = sorted(points)\n",
    "print(sorted_points)"
   ]
  },
  {
   "cell_type": "code",
   "execution_count": null,
   "id": "b366dd2a",
   "metadata": {},
   "outputs": [],
   "source": []
  },
  {
   "cell_type": "code",
   "execution_count": 42,
   "id": "43d58a5a",
   "metadata": {},
   "outputs": [
    {
     "data": {
      "text/plain": [
       "[6, 5, 4, 3, 2, 1]"
      ]
     },
     "execution_count": 42,
     "metadata": {},
     "output_type": "execute_result"
    }
   ],
   "source": [
    "numbers.sort(reverse=True)\n",
    "numbers"
   ]
  },
  {
   "cell_type": "code",
   "execution_count": 43,
   "id": "b48e54a7",
   "metadata": {},
   "outputs": [],
   "source": [
    "numbers = [1, 2, 3, 4, 5, 6]"
   ]
  },
  {
   "cell_type": "code",
   "execution_count": 47,
   "id": "82666473",
   "metadata": {},
   "outputs": [],
   "source": [
    "my_numbers = sorted(numbers, reverse=True)"
   ]
  },
  {
   "cell_type": "code",
   "execution_count": 48,
   "id": "61be2a7b",
   "metadata": {},
   "outputs": [
    {
     "data": {
      "text/plain": [
       "[1, 2, 3, 4, 5, 6]"
      ]
     },
     "execution_count": 48,
     "metadata": {},
     "output_type": "execute_result"
    }
   ],
   "source": [
    "numbers"
   ]
  },
  {
   "cell_type": "code",
   "execution_count": 49,
   "id": "b7cac905",
   "metadata": {},
   "outputs": [
    {
     "data": {
      "text/plain": [
       "[6, 5, 4, 3, 2, 1]"
      ]
     },
     "execution_count": 49,
     "metadata": {},
     "output_type": "execute_result"
    }
   ],
   "source": [
    "my_numbers"
   ]
  },
  {
   "cell_type": "code",
   "execution_count": 50,
   "id": "7a70eb75",
   "metadata": {},
   "outputs": [
    {
     "data": {
      "text/plain": [
       "['apple', 'banana', 'cherry', 'date']"
      ]
     },
     "execution_count": 50,
     "metadata": {},
     "output_type": "execute_result"
    }
   ],
   "source": [
    "fruits"
   ]
  },
  {
   "cell_type": "code",
   "execution_count": 52,
   "id": "8f945ada",
   "metadata": {},
   "outputs": [
    {
     "data": {
      "text/plain": [
       "['banana', 'cherry', 'apple', 'date']"
      ]
     },
     "execution_count": 52,
     "metadata": {},
     "output_type": "execute_result"
    }
   ],
   "source": [
    "myfruits = sorted(fruits,key=len, reverse=True)\n",
    "myfruits"
   ]
  },
  {
   "cell_type": "code",
   "execution_count": null,
   "id": "26b1c222",
   "metadata": {},
   "outputs": [],
   "source": [
    "등수구하기\n",
    "\n",
    "영어 점수와 수학 점수의 평균 점수를 기준으로 학생들의 등수를 매기려고 합니다. 영어 점수와 수학 점수를 담은 2차원 리스트 score가 주어질 때, 영어 점수와 수학 점수의 평균을 기준으로 매긴 등수를 담은 리스트를 return하도록 함수를 만들어주세요\n",
    "\n",
    "[[80, 70], [90, 50], [40, 70], [50, 80]] -> [1, 2, 4, 3]\n",
    "[[80, 70], [70, 80], [30, 50], [90, 100], [100, 90], [100, 100], [10, 30]] -> [4, 4, 6, 2, 2, 1, 7]"
   ]
  },
  {
   "cell_type": "code",
   "execution_count": 78,
   "id": "28d50101",
   "metadata": {},
   "outputs": [
    {
     "data": {
      "text/plain": [
       "[4, 4, 6, 2, 2, 1, 7]"
      ]
     },
     "execution_count": 78,
     "metadata": {},
     "output_type": "execute_result"
    }
   ],
   "source": [
    "score2 = [[80, 70], [70, 80], [30, 50], [90, 100], [100, 90], [100, 100], [10, 30]]\n",
    "rank(score2) # [4, 4, 6, 2, 2, 1, 7]"
   ]
  },
  {
   "cell_type": "code",
   "execution_count": 79,
   "id": "62711546",
   "metadata": {},
   "outputs": [
    {
     "data": {
      "text/plain": [
       "[1, 2, 4, 3]"
      ]
     },
     "execution_count": 79,
     "metadata": {},
     "output_type": "execute_result"
    }
   ],
   "source": [
    "score1 = [[80, 70], [90, 50], [40, 70], [50, 80]]\n",
    "rank(score1) # [1, 2, 4, 3]"
   ]
  },
  {
   "cell_type": "code",
   "execution_count": null,
   "id": "ac3c3b88",
   "metadata": {},
   "outputs": [],
   "source": [
    "def rank(score):\n",
    "    result = []\n",
    "    # YOUR_CODE_HERE\n",
    "    # 1. 평균값을 가지는 리스트\n",
    "    avg = []\n",
    "    for i, j in score:\n",
    "        # print((i+j)/2)\n",
    "        avg.append((i+j)/2)\n",
    "    # print(avg)\n",
    "    # [75.0, 70.0, 55.0, 65.0]\n",
    "\n",
    "    # 2. 평균값을 내림차순으로 정렬\n",
    "    avg_sort = sorted(avg,reverse=True)\n",
    "    # print(avg_sort)\n",
    "    # [75.0, 70.0, 65.0, 55.0]\n",
    "    # [0,    1,    2,    3   ]  + 1\n",
    "    \n",
    "    # 3. 비교해서 등수 처리\n",
    "    for i in avg:\n",
    "        result.append(avg_sort.index(i) + 1)\n",
    "    # print(result)\n",
    "    # [1, 2, 4, 3]\n",
    "    return result"
   ]
  },
  {
   "cell_type": "code",
   "execution_count": null,
   "id": "30880097",
   "metadata": {},
   "outputs": [],
   "source": [
    "def rank(score):\n",
    "    result = []\n",
    "    avg = []\n",
    "    for i, j in score:\n",
    "        avg.append((i+j)/2)\n",
    "    avg_sort = sorted(avg,reverse=True)\n",
    "    for i in avg:\n",
    "        result.append(avg_sort.index(i) + 1)\n",
    "    return result"
   ]
  },
  {
   "cell_type": "code",
   "execution_count": 77,
   "id": "b3e1ba5d",
   "metadata": {},
   "outputs": [],
   "source": [
    "def rank(score):\n",
    "    avg = [(i+j)/2 for i, j in score]\n",
    "    avg_sort = sorted(avg,reverse=True)\n",
    "    result = [avg_sort.index(i) + 1 for i in avg]\n",
    "    return result"
   ]
  },
  {
   "cell_type": "code",
   "execution_count": null,
   "id": "fa016a26",
   "metadata": {},
   "outputs": [],
   "source": [
    "소수판별함수  is_prime()\n",
    "[2,3,4,5,6,7,8,9] -> [True, True, False, True, False, True, False, False]"
   ]
  },
  {
   "cell_type": "code",
   "execution_count": 82,
   "id": "9c3c5a03",
   "metadata": {},
   "outputs": [],
   "source": [
    "def is_prime(num_list):\n",
    "    result = []\n",
    "    for num in num_list:\n",
    "        isprime = True\n",
    "        for i in range(2, num):\n",
    "            if num % i == 0:\n",
    "                isprime = False\n",
    "                break\n",
    "        result.append(isprime)\n",
    "    return result"
   ]
  },
  {
   "cell_type": "code",
   "execution_count": 83,
   "id": "221a1ac6",
   "metadata": {},
   "outputs": [
    {
     "data": {
      "text/plain": [
       "[True, True, False, True, False, True, False, False]"
      ]
     },
     "execution_count": 83,
     "metadata": {},
     "output_type": "execute_result"
    }
   ],
   "source": [
    "is_prime([2,3,4,5,6,7,8,9])"
   ]
  },
  {
   "cell_type": "code",
   "execution_count": 84,
   "id": "9fc96a2e",
   "metadata": {},
   "outputs": [],
   "source": [
    "import random"
   ]
  },
  {
   "cell_type": "code",
   "execution_count": 89,
   "id": "ace5c82a",
   "metadata": {},
   "outputs": [
    {
     "data": {
      "text/plain": [
       "81"
      ]
     },
     "execution_count": 89,
     "metadata": {},
     "output_type": "execute_result"
    }
   ],
   "source": [
    "random.randint(1, 100)"
   ]
  },
  {
   "cell_type": "code",
   "execution_count": null,
   "id": "69125f58",
   "metadata": {},
   "outputs": [],
   "source": []
  },
  {
   "cell_type": "code",
   "execution_count": 12,
   "id": "42cc4cbd",
   "metadata": {},
   "outputs": [
    {
     "name": "stdout",
     "output_type": "stream",
     "text": [
      "10000원을 신용카드로 결제합니다.\n",
      "결제 완료.\n",
      "5000원을 계좌이체로 결제합니다.\n",
      "입금 확인 중.\n"
     ]
    }
   ],
   "source": [
    "# 클래스 없이 구현한 결제 시스템 (나쁜 예시)\n",
    "def process_payment(payment_method, amount):\n",
    "    if payment_method == \"credit_card\":\n",
    "        print(f\"{amount}원을 신용카드로 결제합니다.\")\n",
    "        # ... 신용카드 결제 로직 ...\n",
    "        print(\"결제 완료.\")\n",
    "    elif payment_method == \"bank_transfer\":\n",
    "        print(f\"{amount}원을 계좌이체로 결제합니다.\")\n",
    "        # ... 계좌이체 로직 ...\n",
    "        print(\"입금 확인 중.\")\n",
    "    elif payment_method == \"simple_pay\":\n",
    "        print(f\"{amount}원을 간편 결제로 결제합니다.\")\n",
    "        # ... 간편 결제 로직 ...\n",
    "        print(\"결제 완료.\")\n",
    "    else:\n",
    "        print(\"지원하지 않는 결제 방식입니다.\")\n",
    "\n",
    "# 결제 실행\n",
    "process_payment(\"credit_card\", 10000)\n",
    "process_payment(\"bank_transfer\", 5000)"
   ]
  },
  {
   "cell_type": "code",
   "execution_count": 13,
   "id": "2318d7ee",
   "metadata": {},
   "outputs": [],
   "source": [
    "## 1단계: PaymentMethod 부모 클래스 정의\n",
    "class PaymentMethod:\n",
    "    \"\"\"\n",
    "    모든 결제 수단의 기본이 되는 부모 클래스\n",
    "    \"\"\"\n",
    "    def __init__(self, amount):\n",
    "        self.amount = amount\n",
    "\n",
    "    def check_availability(self):\n",
    "        print(\"기본 결제 시스템은 항상 사용 가능합니다.\")\n",
    "        return True\n",
    "\n",
    "    def pay(self):\n",
    "        # 이 메서드는 자식 클래스에서 반드시 재정의(override)되어야 함\n",
    "        raise NotImplementedError(\"자식 클래스에서 pay() 메서드를 구현해야 합니다.\")"
   ]
  },
  {
   "cell_type": "code",
   "execution_count": 14,
   "id": "0ec2b17c",
   "metadata": {},
   "outputs": [],
   "source": [
    "## 2단계: 구체적인 자식 클래스 정의\n",
    "class CreditCardPayment(PaymentMethod):\n",
    "    \"\"\"\n",
    "    신용카드 결제 방식\n",
    "    \"\"\"\n",
    "    def __init__(self, amount, card_number):\n",
    "        super().__init__(amount)  # 부모 클래스의 __init__ 호출\n",
    "        self.card_number = card_number\n",
    "        print(f\"신용카드 결제({self.card_number[-4:]})가 준비되었습니다.\")\n",
    "\n",
    "class BankTransferPayment(PaymentMethod):\n",
    "    \"\"\"\n",
    "    계좌이체 결제 방식\n",
    "    \"\"\"\n",
    "    def __init__(self, amount, bank_name, account_number):\n",
    "        super().__init__(amount) # 부모 클래스의 __init__ 호출\n",
    "        self.bank_name = bank_name\n",
    "        self.account_number = account_number\n",
    "        print(f\"{self.bank_name} 계좌이체({self.account_number})가 준비되었습니다.\")"
   ]
  },
  {
   "cell_type": "code",
   "execution_count": 15,
   "id": "758b1c2d",
   "metadata": {},
   "outputs": [],
   "source": [
    "## 3단계: 메서드 오버라이딩\n",
    "class CreditCardPayment(PaymentMethod):\n",
    "    def __init__(self, amount, card_number):\n",
    "        super().__init__(amount)\n",
    "        self.card_number = card_number\n",
    "\n",
    "    # pay 메서드 오버라이딩\n",
    "    def pay(self):\n",
    "        print(f\"--- {self.amount}원을 카드로 결제합니다 ---\")\n",
    "        print(f\"카드번호: {self.card_number}\")\n",
    "        print(\"카드사 승인을 요청합니다...\")\n",
    "        print(\"결제가 성공적으로 완료되었습니다.\")\n",
    "\n",
    "class BankTransferPayment(PaymentMethod):\n",
    "    def __init__(self, amount, bank_name, account_number):\n",
    "        super().__init__(amount)\n",
    "        self.bank_name = bank_name\n",
    "        self.account_number = account_number\n",
    "\n",
    "    # check_availability 메서드 오버라이딩\n",
    "    def check_availability(self):\n",
    "        # 가상의 은행 점검 시간 (23:00 ~ 01:00)\n",
    "        from datetime import datetime\n",
    "        now_hour = datetime.now().hour\n",
    "        if now_hour >= 23 or now_hour < 1:\n",
    "            print(f\"[{self.bank_name}] 은행 점검 시간으로 현재 계좌이체가 불가능합니다.\")\n",
    "            return False\n",
    "        return True\n",
    "\n",
    "    # pay 메서드 오버라이딩\n",
    "    def pay(self):\n",
    "        print(f\"--- {self.amount}원을 계좌이체로 결제합니다 ---\")\n",
    "        print(f\"입금 은행: {self.bank_name}\")\n",
    "        print(f\"가상계좌 {self.account_number}가 발급되었습니다.\")\n",
    "        print(\"입금 대기 중입니다.\")"
   ]
  },
  {
   "cell_type": "code",
   "execution_count": 16,
   "id": "076bafb9",
   "metadata": {},
   "outputs": [
    {
     "name": "stdout",
     "output_type": "stream",
     "text": [
      "\n",
      "========== 전체 결제를 시작합니다 ==========\n",
      "\n",
      "[처리 대상] 금액: 15000원\n",
      "기본 결제 시스템은 항상 사용 가능합니다.\n",
      "--- 15000원을 카드로 결제합니다 ---\n",
      "카드번호: 1234-5678-xxxx-xxxx\n",
      "카드사 승인을 요청합니다...\n",
      "결제가 성공적으로 완료되었습니다.\n",
      "------------------------------\n",
      "\n",
      "[처리 대상] 금액: 50000원\n",
      "--- 50000원을 계좌이체로 결제합니다 ---\n",
      "입금 은행: 토스뱅크\n",
      "가상계좌 100-xxxx-xxxx가 발급되었습니다.\n",
      "입금 대기 중입니다.\n",
      "------------------------------\n",
      "\n",
      "[처리 대상] 금액: 7200원\n",
      "기본 결제 시스템은 항상 사용 가능합니다.\n",
      "--- 7200원을 카드로 결제합니다 ---\n",
      "카드번호: 9876-5432-xxxx-xxxx\n",
      "카드사 승인을 요청합니다...\n",
      "결제가 성공적으로 완료되었습니다.\n",
      "------------------------------\n"
     ]
    }
   ],
   "source": [
    "## 4단계: 다형성을 활용한 일괄 처리\n",
    "\n",
    "# 서로 다른 종류의 결제 객체들을 하나의 리스트에 담기\n",
    "payments_to_process = [\n",
    "    CreditCardPayment(15000, \"1234-5678-xxxx-xxxx\"),\n",
    "    BankTransferPayment(50000, \"토스뱅크\", \"100-xxxx-xxxx\"),\n",
    "    CreditCardPayment(7200, \"9876-5432-xxxx-xxxx\")\n",
    "]\n",
    "\n",
    "# 결제 처리 루프\n",
    "# 이 코드는 어떤 결제 방식인지 'if'문으로 전혀 확인하지 않는다!\n",
    "print(\"\\n========== 전체 결제를 시작합니다 ==========\")\n",
    "for payment in payments_to_process:\n",
    "    print(f\"\\n[처리 대상] 금액: {payment.amount}원\")\n",
    "    # 1. 결제 가능 여부 확인\n",
    "    if payment.check_availability():\n",
    "        # 2. 결제 실행 -> 객체가 스스로 올바른 pay() 메서드를 찾아 실행!\n",
    "        payment.pay()\n",
    "    print(\"-\" * 30)"
   ]
  },
  {
   "cell_type": "code",
   "execution_count": 18,
   "id": "7b5551d4",
   "metadata": {},
   "outputs": [],
   "source": [
    "class PaymentMethod:\n",
    "    def __init__(self, amount):\n",
    "        self.amount = amount\n",
    "    def pay(self):\n",
    "        raise NotImplementedError\n",
    "\n",
    "class BankTransferPayment(PaymentMethod):\n",
    "    \"\"\"\n",
    "    계좌이체 결제 방식입니다.\n",
    "    은행명과 계좌번호를 필요로 합니다.\n",
    "    \"\"\"\n",
    "    def __init__(self, amount, bank_name, account_number):\n",
    "        super().__init__(amount)\n",
    "        self.bank_name = bank_name\n",
    "        self.account_number = account_number\n",
    "    \n",
    "    def pay(self):\n",
    "        print(\"입금 대기 중입니다.\")\n",
    "\n"
   ]
  },
  {
   "cell_type": "code",
   "execution_count": 21,
   "id": "b8532616",
   "metadata": {},
   "outputs": [
    {
     "name": "stdout",
     "output_type": "stream",
     "text": [
      "--- help() 함수로 확인 ---\n",
      "Help on class BankTransferPayment in module __main__:\n",
      "\n",
      "class BankTransferPayment(PaymentMethod)\n",
      " |  BankTransferPayment(amount, bank_name, account_number)\n",
      " |  \n",
      " |  계좌이체 결제 방식입니다.\n",
      " |  은행명과 계좌번호를 필요로 합니다.\n",
      " |  \n",
      " |  Method resolution order:\n",
      " |      BankTransferPayment\n",
      " |      PaymentMethod\n",
      " |      builtins.object\n",
      " |  \n",
      " |  Methods defined here:\n",
      " |  \n",
      " |  __init__(self, amount, bank_name, account_number)\n",
      " |      Initialize self.  See help(type(self)) for accurate signature.\n",
      " |  \n",
      " |  pay(self)\n",
      " |  \n",
      " |  ----------------------------------------------------------------------\n",
      " |  Data descriptors inherited from PaymentMethod:\n",
      " |  \n",
      " |  __dict__\n",
      " |      dictionary for instance variables\n",
      " |  \n",
      " |  __weakref__\n",
      " |      list of weak references to the object\n",
      "\n"
     ]
    }
   ],
   "source": [
    "# --- 독스트링 확인하기 ---\n",
    "\n",
    "# 1. help() 함수 사용하기 (사용자 친화적인 방법)\n",
    "print(\"--- help() 함수로 확인 ---\")\n",
    "help(BankTransferPayment)"
   ]
  },
  {
   "cell_type": "code",
   "execution_count": 20,
   "id": "fba96aa4",
   "metadata": {},
   "outputs": [
    {
     "name": "stdout",
     "output_type": "stream",
     "text": [
      "--- __doc__ 속성으로 확인 ---\n",
      "\n",
      "    계좌이체 결제 방식입니다.\n",
      "    은행명과 계좌번호를 필요로 합니다.\n",
      "    \n"
     ]
    }
   ],
   "source": [
    "\n",
    "# 2. __doc__ 속성 직접 출력하기 (프로그램에서 활용)\n",
    "print(\"--- __doc__ 속성으로 확인 ---\")\n",
    "print(BankTransferPayment.__doc__)"
   ]
  },
  {
   "cell_type": "code",
   "execution_count": 22,
   "id": "204315f4",
   "metadata": {},
   "outputs": [
    {
     "name": "stdout",
     "output_type": "stream",
     "text": [
      "==============================\n",
      "  간단한 재고 관리 시스템\n",
      "==============================\n",
      "1: 새 상품 등록\n",
      "2: 재고 목록 보기\n",
      "3: 상품 판매\n",
      "4: 종료\n",
      "------------------------------\n",
      "\n",
      "--- 새 상품 등록 ---\n",
      "\n",
      "✅ '' 상품이 성공적으로 등록되었습니다. (ID: 6090)\n",
      "==============================\n",
      "  간단한 재고 관리 시스템\n",
      "==============================\n",
      "1: 새 상품 등록\n",
      "2: 재고 목록 보기\n",
      "3: 상품 판매\n",
      "4: 종료\n",
      "------------------------------\n",
      "\n",
      "--- 현재 재고 목록 ---\n",
      "ID: 6090 | 이름:            | 가격:     200원 | 재고: 3개\n",
      "==============================\n",
      "  간단한 재고 관리 시스템\n",
      "==============================\n",
      "1: 새 상품 등록\n",
      "2: 재고 목록 보기\n",
      "3: 상품 판매\n",
      "4: 종료\n",
      "------------------------------\n",
      "\n",
      "--- 상품 판매 ---\n",
      "\n",
      "✅ '' 상품 1개가 판매되었습니다. 남은 재고: 2개\n",
      "==============================\n",
      "  간단한 재고 관리 시스템\n",
      "==============================\n",
      "1: 새 상품 등록\n",
      "2: 재고 목록 보기\n",
      "3: 상품 판매\n",
      "4: 종료\n",
      "------------------------------\n",
      "\n",
      "--- 새 상품 등록 ---\n",
      "\n",
      "✅ '' 상품이 성공적으로 등록되었습니다. (ID: 2409)\n",
      "==============================\n",
      "  간단한 재고 관리 시스템\n",
      "==============================\n",
      "1: 새 상품 등록\n",
      "2: 재고 목록 보기\n",
      "3: 상품 판매\n",
      "4: 종료\n",
      "------------------------------\n",
      "\n",
      "❌ 잘못된 입력입니다. 1에서 4 사이의 숫자를 입력해주세요.\n",
      "==============================\n",
      "  간단한 재고 관리 시스템\n",
      "==============================\n",
      "1: 새 상품 등록\n",
      "2: 재고 목록 보기\n",
      "3: 상품 판매\n",
      "4: 종료\n",
      "------------------------------\n",
      "\n",
      "❌ 잘못된 입력입니다. 1에서 4 사이의 숫자를 입력해주세요.\n",
      "==============================\n",
      "  간단한 재고 관리 시스템\n",
      "==============================\n",
      "1: 새 상품 등록\n",
      "2: 재고 목록 보기\n",
      "3: 상품 판매\n",
      "4: 종료\n",
      "------------------------------\n",
      "\n",
      "프로그램을 종료합니다.\n"
     ]
    }
   ],
   "source": [
    "# 'random'과 'os' 모듈을 가져옵니다.\n",
    "# 'random'은 고유한 상품 ID를 생성할 때, 'os'는 화면을 깨끗하게 지울 때 사용됩니다.\n",
    "import random\n",
    "import os\n",
    "\n",
    "# ----------------------------------------------------------------------------------\n",
    "# 💡 개념: 클래스(Class), 객체(Object)\n",
    "# '상품'이라는 객체를 표현하기 위한 설계도(class)를 만듭니다.\n",
    "class Product:\n",
    "    \"\"\"\n",
    "    상품 정보를 담는 클래스\n",
    "    - 변수, 자료형(str, int)이 속성(attribute)으로 사용됩니다.\n",
    "    \"\"\"\n",
    "    def __init__(self, product_id, name, price, stock):\n",
    "        self.product_id = product_id  # 상품 ID\n",
    "        self.name = name              # 상품명\n",
    "        self.price = price            # 가격\n",
    "        self.stock = stock            # 재고 수량\n",
    "\n",
    "    def __str__(self):\n",
    "        # 객체를 출력할 때 예쁘게 보이도록 문자열 표현을 정의합니다.\n",
    "        return f\"ID: {self.product_id:04d} | 이름: {self.name:<10} | 가격: {self.price:7,d}원 | 재고: {self.stock}개\"\n",
    "\n",
    "# ----------------------------------------------------------------------------------\n",
    "# 💡 개념: 클래스, 리스트(List), 함수(메서드), 조건문, 반복문\n",
    "# '재고'를 관리하는 클래스입니다. 상품 목록을 리스트로 가집니다.\n",
    "class Inventory:\n",
    "    \"\"\"\n",
    "    재고를 관리하는 클래스\n",
    "    - 상품(Product) 객체들을 리스트로 관리합니다.\n",
    "    \"\"\"\n",
    "    def __init__(self):\n",
    "        # 💡 개념: 리스트(List)\n",
    "        # 상품 객체들을 저장할 빈 리스트를 생성합니다.\n",
    "        self.products = []\n",
    "        # 💡 개념: 세트(Set)\n",
    "        # 생성된 상품 ID를 기록하여 중복을 방지합니다.\n",
    "        self.used_ids = set()\n",
    "\n",
    "    def generate_unique_id(self):\n",
    "        # 💡 개념: 반복문(while), 조건문(if)\n",
    "        while True:\n",
    "            product_id = random.randint(1000, 9999)\n",
    "            if product_id not in self.used_ids:\n",
    "                self.used_ids.add(product_id)\n",
    "                return product_id\n",
    "\n",
    "    # 💡 개념: 함수(메서드) 정의\n",
    "    def add_product(self):\n",
    "        print(\"\\n--- 새 상품 등록 ---\")\n",
    "        try:\n",
    "            # 💡 개념: 변수, 자료형(input은 str, int()로 형변환)\n",
    "            name = input(\"상품명: \")\n",
    "            price = int(input(\"가격(원): \"))\n",
    "            stock = int(input(\"재고 수량: \"))\n",
    "\n",
    "            product_id = self.generate_unique_id()\n",
    "            new_product = Product(product_id, name, price, stock)\n",
    "            self.products.append(new_product)\n",
    "            print(f\"\\n✅ '{name}' 상품이 성공적으로 등록되었습니다. (ID: {product_id:04d})\")\n",
    "        except ValueError:\n",
    "            print(\"\\n❌ 오류: 가격과 재고는 숫자로 입력해야 합니다.\")\n",
    "\n",
    "    def display_products(self):\n",
    "        print(\"\\n--- 현재 재고 목록 ---\")\n",
    "        # 💡 개념: 조건문(if) - 재고가 있는지 확인\n",
    "        if not self.products:\n",
    "            print(\"텅 비어있습니다. 상품을 등록해주세요.\")\n",
    "        else:\n",
    "            # 💡 개념: 반복문(for) - 리스트의 모든 상품을 순회하며 출력\n",
    "            for product in self.products:\n",
    "                print(product)\n",
    "\n",
    "    def sell_product(self):\n",
    "        print(\"\\n--- 상품 판매 ---\")\n",
    "        try:\n",
    "            product_id_to_sell = int(input(\"판매할 상품의 ID를 입력하세요: \"))\n",
    "            \n",
    "            product_found = None\n",
    "            # 💡 개념: 반복문(for)과 조건문(if)으로 판매할 상품 찾기\n",
    "            for product in self.products:\n",
    "                if product.product_id == product_id_to_sell:\n",
    "                    product_found = product\n",
    "                    break # 상품을 찾았으면 반복 중단\n",
    "            \n",
    "            if product_found:\n",
    "                if product_found.stock > 0:\n",
    "                    product_found.stock -= 1\n",
    "                    print(f\"\\n✅ '{product_found.name}' 상품 1개가 판매되었습니다. 남은 재고: {product_found.stock}개\")\n",
    "                else:\n",
    "                    print(f\"\\n❌ 오류: '{product_found.name}' 상품은 품절되었습니다.\")\n",
    "            else:\n",
    "                print(\"\\n❌ 오류: 해당 ID의 상품을 찾을 수 없습니다.\")\n",
    "\n",
    "        except ValueError:\n",
    "            print(\"\\n❌ 오류: 상품 ID는 숫자로 입력해야 합니다.\")\n",
    "\n",
    "\n",
    "# ----------------------------------------------------------------------------------\n",
    "# 💡 개념: 메인 실행 블록, 반복문(while), 조건문(if/elif/else)\n",
    "# 이 프로그램의 시작점입니다.\n",
    "def main():\n",
    "    inventory = Inventory()\n",
    "    \n",
    "    # 💡 개념: 무한 반복문(while)으로 메뉴 시스템 구현\n",
    "    while True:\n",
    "        # 화면을 지우고 메뉴를 표시 (Windows: 'cls', macOS/Linux: 'clear')\n",
    "        os.system('cls' if os.name == 'nt' else 'clear')\n",
    "        \n",
    "        print(\"==============================\")\n",
    "        print(\"  간단한 재고 관리 시스템\")\n",
    "        print(\"==============================\")\n",
    "        print(\"1: 새 상품 등록\")\n",
    "        print(\"2: 재고 목록 보기\")\n",
    "        print(\"3: 상품 판매\")\n",
    "        print(\"4: 종료\")\n",
    "        print(\"------------------------------\")\n",
    "        choice = input(\"원하는 작업의 번호를 입력하세요: \")\n",
    "\n",
    "        # 💡 개념: 조건문(if/elif/else)으로 사용자 입력에 따라 다른 기능 실행\n",
    "        if choice == '1':\n",
    "            inventory.add_product()\n",
    "        elif choice == '2':\n",
    "            inventory.display_products()\n",
    "        elif choice == '3':\n",
    "            inventory.sell_product()\n",
    "        elif choice == '4':\n",
    "        \tprint(\"\\n프로그램을 종료합니다.\")\n",
    "        \tbreak # 무한 루프 탈출\n",
    "        else:\n",
    "            print(\"\\n❌ 잘못된 입력입니다. 1에서 4 사이의 숫자를 입력해주세요.\")\n",
    "        \n",
    "        input(\"\\n계속하려면 Enter 키를 누르세요...\")\n",
    "\n",
    "# 이 스크립트가 직접 실행될 때만 main() 함수를 호출합니다.\n",
    "if __name__ == \"__main__\":\n",
    "    main()"
   ]
  }
 ],
 "metadata": {
  "kernelspec": {
   "display_name": "Python 3",
   "language": "python",
   "name": "python3"
  },
  "language_info": {
   "codemirror_mode": {
    "name": "ipython",
    "version": 3
   },
   "file_extension": ".py",
   "mimetype": "text/x-python",
   "name": "python",
   "nbconvert_exporter": "python",
   "pygments_lexer": "ipython3",
   "version": "3.11.9"
  }
 },
 "nbformat": 4,
 "nbformat_minor": 5
}
